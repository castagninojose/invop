{
 "cells": [
  {
   "cell_type": "markdown",
   "metadata": {},
   "source": [
    "# <center>B&B solver for </center>\n",
    "$$\\min c^T x$$\n",
    "$$s.t. A_{ub}x \\leq b_{ub}$$\n",
    "$$A_{eq}x = b_{eq}$$\n",
    "$$l \\leq x \\leq u$$\n",
    "\n",
    "Template 2x2 problem: \n",
    "```\n",
    "c = [c1, c2]\n",
    "A = [[-a11, a12], [a21, a22]]\n",
    "b = [b1, b2]\n",
    "x1_bounds = (0, None)\n",
    "x2_bounds = (0, None)\n",
    "\n",
    "linprog(c, A_ub=A, b_ub=b, bounds=[x1_bounds, x2_bounds])\n",
    "```\n",
    "\n",
    "\n",
    "Ref: https://docs.scipy.org/doc/scipy/reference/generated/scipy.optimize.linprog.html"
   ]
  },
  {
   "cell_type": "code",
   "execution_count": 24,
   "metadata": {},
   "outputs": [
    {
     "data": {
      "application/javascript": [
       "IPython.notebook.set_autosave_interval(300000)"
      ]
     },
     "metadata": {},
     "output_type": "display_data"
    },
    {
     "name": "stdout",
     "output_type": "stream",
     "text": [
      "Autosaving every 300 seconds\n"
     ]
    },
    {
     "data": {
      "text/html": [
       "        <script type=\"text/javascript\">\n",
       "        window.PlotlyConfig = {MathJaxConfig: 'local'};\n",
       "        if (window.MathJax) {MathJax.Hub.Config({SVG: {font: \"STIX-Web\"}});}\n",
       "        if (typeof require !== 'undefined') {\n",
       "        require.undef(\"plotly\");\n",
       "        requirejs.config({\n",
       "            paths: {\n",
       "                'plotly': ['https://cdn.plot.ly/plotly-latest.min']\n",
       "            }\n",
       "        });\n",
       "        require(['plotly'], function(Plotly) {\n",
       "            window._Plotly = Plotly;\n",
       "        });\n",
       "        }\n",
       "        </script>\n",
       "        "
      ]
     },
     "metadata": {},
     "output_type": "display_data"
    }
   ],
   "source": [
    "%autosave 300\n",
    "import numpy as np\n",
    "import scipy as sp\n",
    "from scipy.optimize import linprog\n",
    "import fractions\n",
    "\n",
    "# pyplot imports\n",
    "import plotly as py\n",
    "import plotly.graph_objs as go\n",
    "import plotly.express as px\n",
    "\n",
    "from plotly.subplots import make_subplots\n",
    "\n",
    "## Offline mode\n",
    "from plotly.offline import init_notebook_mode, iplot\n",
    "init_notebook_mode(connected=True)\n",
    "\n",
    "import ipywidgets as widgets\n",
    "from ipywidgets import interact, interact_manual, interactive, fixed"
   ]
  },
  {
   "cell_type": "code",
   "execution_count": 8,
   "metadata": {
    "scrolled": true
   },
   "outputs": [
    {
     "data": {
      "text/plain": [
       "     con: array([], dtype=float64)\n",
       "     fun: -15.666666577633631\n",
       " message: 'Optimization terminated successfully.'\n",
       "     nit: 5\n",
       "   slack: array([1.06853143e-07, 1.46666664e+01, 1.33515797e-07, 1.13333332e+01])\n",
       "  status: 0\n",
       " success: True\n",
       "       x: array([1.3333334 , 4.33333326])"
      ]
     },
     "execution_count": 8,
     "metadata": {},
     "output_type": "execute_result"
    }
   ],
   "source": [
    "# n = 0\n",
    "c = [-2, -3]\n",
    "A = [[4, 5], [-1, -4], [-1, 1], [4, 1],]\n",
    "b = [27, -4, 3, 21]\n",
    "x1_bounds = (0, None)\n",
    "x2_bounds = (0, None)\n",
    "\n",
    "linprog(c, A_ub=A, b_ub=b, bounds=[x1_bounds, x2_bounds])"
   ]
  },
  {
   "cell_type": "code",
   "execution_count": 9,
   "metadata": {
    "scrolled": true
   },
   "outputs": [
    {
     "data": {
      "text/plain": [
       "     con: array([], dtype=float64)\n",
       "     fun: -15.499999633716975\n",
       " message: 'Optimization terminated successfully.'\n",
       "     nit: 5\n",
       "   slack: array([4.98927722e-07, 1.37499992e+01, 7.50000401e-01, 9.99999956e+00])\n",
       "  status: 0\n",
       " success: True\n",
       "       x: array([1.75000017, 3.99999977])"
      ]
     },
     "execution_count": 9,
     "metadata": {},
     "output_type": "execute_result"
    }
   ],
   "source": [
    "# n = 1\n",
    "x1_bounds = (0, None)\n",
    "x2_bounds = (0, 4)\n",
    "linprog(c, A_ub=A, b_ub=b, bounds=[x1_bounds, x2_bounds])"
   ]
  },
  {
   "cell_type": "code",
   "execution_count": 10,
   "metadata": {
    "scrolled": true
   },
   "outputs": [
    {
     "data": {
      "text/plain": [
       "     con: array([], dtype=float64)\n",
       "     fun: -17.64576124883088\n",
       " message: 'The algorithm terminated successfully and determined that the problem is infeasible.'\n",
       "     nit: 5\n",
       "   slack: array([-2.79570866, 18.56241521, -1.91665396, 13.18754667])\n",
       "  status: 2\n",
       " success: False\n",
       "       x: array([0.57915987, 5.49581383])"
      ]
     },
     "execution_count": 10,
     "metadata": {},
     "output_type": "execute_result"
    }
   ],
   "source": [
    "# n = 2\n",
    "x1_bounds = (0, None)\n",
    "x2_bounds = (5, None)\n",
    "linprog(c, A_ub=A, b_ub=b, bounds=[x1_bounds, x2_bounds])"
   ]
  },
  {
   "cell_type": "code",
   "execution_count": 11,
   "metadata": {
    "scrolled": true
   },
   "outputs": [
    {
     "data": {
      "text/plain": [
       "     con: array([], dtype=float64)\n",
       "     fun: -13.999999962609207\n",
       " message: 'Optimization terminated successfully.'\n",
       "     nit: 5\n",
       "   slack: array([3.00000006e+00, 1.30000000e+01, 9.36464106e-09, 1.30000000e+01])\n",
       "  status: 0\n",
       " success: True\n",
       "       x: array([1.        , 3.99999999])"
      ]
     },
     "execution_count": 11,
     "metadata": {},
     "output_type": "execute_result"
    }
   ],
   "source": [
    "# n = 3\n",
    "x1_bounds = (0, 1)\n",
    "x2_bounds = (0, 4)\n",
    "linprog(c, A_ub=A, b_ub=b, bounds=[x1_bounds, x2_bounds])"
   ]
  },
  {
   "cell_type": "code",
   "execution_count": 12,
   "metadata": {
    "scrolled": true
   },
   "outputs": [
    {
     "data": {
      "text/plain": [
       "     con: array([], dtype=float64)\n",
       "     fun: -15.399999999949522\n",
       " message: 'Optimization terminated successfully.'\n",
       "     nit: 6\n",
       "   slack: array([6.92210733e-11, 1.32000000e+01, 1.20000000e+00, 9.20000000e+00])\n",
       "  status: 0\n",
       " success: True\n",
       "       x: array([2. , 3.8])"
      ]
     },
     "execution_count": 12,
     "metadata": {},
     "output_type": "execute_result"
    }
   ],
   "source": [
    "# n = 4\n",
    "x1_bounds = (2, None)\n",
    "x2_bounds = (0, 4)\n",
    "linprog(c, A_ub=A, b_ub=b, bounds=[x1_bounds, x2_bounds])"
   ]
  },
  {
   "cell_type": "code",
   "execution_count": 13,
   "metadata": {},
   "outputs": [
    {
     "data": {
      "text/plain": [
       "     con: array([], dtype=float64)\n",
       "     fun: -18.529401280785287\n",
       " message: 'The algorithm terminated successfully and determined that the problem is infeasible.'\n",
       "     nit: 5\n",
       "   slack: array([-6.04897959, 15.28925807,  2.24014321,  3.99031229])\n",
       "  status: 2\n",
       " success: False\n",
       "       x: array([3.24996618, 4.00982297])"
      ]
     },
     "execution_count": 13,
     "metadata": {},
     "output_type": "execute_result"
    }
   ],
   "source": [
    "# n = 5\n",
    "x1_bounds = (2, None)\n",
    "x2_bounds = (4, None)\n",
    "linprog(c, A_ub=A, b_ub=b, bounds=[x1_bounds, x2_bounds])"
   ]
  },
  {
   "cell_type": "code",
   "execution_count": 14,
   "metadata": {},
   "outputs": [
    {
     "data": {
      "text/plain": [
       "     con: array([], dtype=float64)\n",
       "     fun: -14.999999978049052\n",
       " message: 'Optimization terminated successfully.'\n",
       "     nit: 5\n",
       "   slack: array([2.76916872e-08, 1.09999999e+01, 3.00000003e+00, 5.99999996e+00])\n",
       "  status: 0\n",
       " success: True\n",
       "       x: array([3.00000001, 2.99999998])"
      ]
     },
     "execution_count": 14,
     "metadata": {},
     "output_type": "execute_result"
    }
   ],
   "source": [
    "# n = 6\n",
    "x1_bounds = (2, None)\n",
    "x2_bounds = (0, 3)\n",
    "linprog(c, A_ub=A, b_ub=b, bounds=[x1_bounds, x2_bounds])"
   ]
  },
  {
   "cell_type": "code",
   "execution_count": 44,
   "metadata": {},
   "outputs": [
    {
     "data": {
      "text/plain": [
       "     con: array([], dtype=float64)\n",
       "     fun: -35.528817273870004\n",
       " message: 'The algorithm terminated successfully and determined that the problem is infeasible.'\n",
       "     nit: 5\n",
       "   slack: array([42.82204318, -0.76440864, -2.52881727, 33.52881727])\n",
       "  status: 2\n",
       " success: False\n",
       "       x: array([14.76440864,  6.        ])"
      ]
     },
     "execution_count": 44,
     "metadata": {},
     "output_type": "execute_result"
    }
   ],
   "source": [
    "# n = 7\n",
    "x1_bounds = (14, None)\n",
    "x2_bounds = (6, 6)\n",
    "linprog(c, A_ub=A, b_ub=b, bounds=[x1_bounds, x2_bounds])"
   ]
  },
  {
   "cell_type": "code",
   "execution_count": 45,
   "metadata": {},
   "outputs": [
    {
     "data": {
      "text/plain": [
       "     con: array([], dtype=float64)\n",
       "     fun: -36.01673433397356\n",
       " message: 'The algorithm terminated successfully and determined that the problem is infeasible.'\n",
       "     nit: 5\n",
       "   slack: array([33.22285312,  2.5979604 , -5.90179639, 34.01673433])\n",
       "  status: 2\n",
       " success: False\n",
       "       x: array([14.28710165,  7.44253103])"
      ]
     },
     "execution_count": 45,
     "metadata": {},
     "output_type": "execute_result"
    }
   ],
   "source": [
    "# n = 8\n",
    "x1_bounds = (14, None)\n",
    "x2_bounds = (7, None)\n",
    "linprog(c, A_ub=A, b_ub=b, bounds=[x1_bounds, x2_bounds])"
   ]
  },
  {
   "cell_type": "code",
   "execution_count": 46,
   "metadata": {},
   "outputs": [
    {
     "data": {
      "text/plain": [
       "     con: array([], dtype=float64)\n",
       "     fun: -34.48984832405941\n",
       " message: 'The algorithm terminated successfully and determined that the problem is infeasible.'\n",
       "     nit: 4\n",
       "   slack: array([36.55075838,  0.97969665, -2.46954497, 32.48984832])\n",
       "  status: 2\n",
       " success: False\n",
       "       x: array([14.        ,  6.48984832])"
      ]
     },
     "execution_count": 46,
     "metadata": {},
     "output_type": "execute_result"
    }
   ],
   "source": [
    "# n = 9\n",
    "x1_bounds = (14, 14)\n",
    "x2_bounds = (6, None)\n",
    "linprog(c, A_ub=A, b_ub=b, bounds=[x1_bounds, x2_bounds])"
   ]
  },
  {
   "cell_type": "markdown",
   "metadata": {},
   "source": [
    "# EJERCICIO 3"
   ]
  },
  {
   "cell_type": "code",
   "execution_count": null,
   "metadata": {},
   "outputs": [],
   "source": []
  },
  {
   "cell_type": "markdown",
   "metadata": {},
   "source": [
    "## Plots"
   ]
  },
  {
   "cell_type": "code",
   "execution_count": 32,
   "metadata": {},
   "outputs": [],
   "source": [
    "def compute_img(x, ai1, ai2, bi):\n",
    "    \"\"\"\"\"\"\n",
    "    return (bi - ai1 * x)/ai2\n",
    "\n",
    "def plot_problem(x_max=20, y_max=20,  d=0):\n",
    "    \n",
    "    x = np.linspace(0, x_max, 1000)\n",
    "    \n",
    "#     r = compute_img(x, 1, 1, 5/3) \n",
    "    r1 = compute_img(x, 4, 5, 27)\n",
    "    r2 = compute_img(x, 1, 4, 4)\n",
    "    r3 = compute_img(x, -1, 1, 3)\n",
    "    r4 = compute_img(x, 4, 1, 21)\n",
    "    fo = compute_img(x, 2, 3, d)    \n",
    "    \n",
    "    trace1 = {\n",
    "      \"line\": {\n",
    "        \"dash\": \"solid\", \n",
    "      }, \n",
    "      \"mode\": \"lines\", \n",
    "      \"name\": \"R1\", \n",
    "      \"x\": x,\n",
    "      \"y\": r1,\n",
    "    }\n",
    "    trace2 = {\n",
    "      \"line\": {\n",
    "        \"dash\": \"solid\", \n",
    "      }, \n",
    "      \"mode\": \"lines\", \n",
    "      \"name\": \"R2\", \n",
    "      \"x\": x, \n",
    "      \"y\": r2, \n",
    "    }\n",
    "    trace3 = {\n",
    "      \"line\": {\n",
    "        \"dash\": \"solid\", \n",
    "      }, \n",
    "      \"mode\": \"lines\", \n",
    "      \"name\": \"R3\", \n",
    "      \"x\": x, \n",
    "      \"y\": r3,\n",
    "    }\n",
    "    trace_fo = {\n",
    "      \"line\": {\n",
    "        \"dash\": \"dot\",\n",
    "      }, \n",
    "      \"mode\": \"lines\", \n",
    "      \"name\": \"F.O.\", \n",
    "      \"x\": x, \n",
    "      \"y\": fo,\n",
    "    }\n",
    "    data = go.Data([trace1, trace2, trace3, trace_fo])\n",
    "    layout = {\n",
    "      \"title\": \"AVERE\", \n",
    "      \"width\": 640, \n",
    "      \"xaxis\": {\n",
    "        \"side\": \"bottom\", \n",
    "        \"type\": \"linear\", \n",
    "        \"range\": [0, x_max], \n",
    "        \"ticks\": \"inside\",\n",
    "        \"anchor\": \"y\", \n",
    "        \"domain\": [0, 1], \n",
    "        \"mirror\": \"ticks\", \n",
    "        \"nticks\": 8, \n",
    "        \"showgrid\": False, \n",
    "        \"showline\": True, \n",
    "        \"tickfont\": {\"size\": 10.0}, \n",
    "        \"zeroline\": False, \n",
    "        \"titlefont\": {\n",
    "          \"size\": 10.0, \n",
    "          \"color\": \"#000000\"\n",
    "        }\n",
    "      }, \n",
    "      \"yaxis\": {\n",
    "        \"side\": \"left\", \n",
    "        \"type\": \"linear\", \n",
    "        \"range\": [0, y_max], \n",
    "        \"ticks\": \"inside\",\n",
    "        \"anchor\": \"x\", \n",
    "        \"domain\": [0, 1], \n",
    "        \"mirror\": \"ticks\", \n",
    "        \"nticks\": 10, \n",
    "        \"showgrid\": False, \n",
    "        \"showline\": True, \n",
    "        \"tickfont\": {\"size\": 10.0}, \n",
    "        \"zeroline\": False, \n",
    "        \"titlefont\": {\n",
    "          \"size\": 10.0, \n",
    "          \"color\": \"#000000\"\n",
    "        }\n",
    "      }, \n",
    "      \"height\": 480, \n",
    "      \"autosize\": False, \n",
    "      \"hovermode\": \"closest\", \n",
    "      \"titlefont\": {\n",
    "        \"size\": 12.0, \n",
    "        \"color\": \"#000000\"\n",
    "      }, \n",
    "      \"showlegend\": True\n",
    "    }\n",
    "    fig = go.Figure(data=data, layout=layout)\n",
    "    fig.show()"
   ]
  },
  {
   "cell_type": "code",
   "execution_count": 33,
   "metadata": {
    "scrolled": false
   },
   "outputs": [
    {
     "data": {
      "application/vnd.jupyter.widget-view+json": {
       "model_id": "09896a2fe5e74ab282c464cb398bcf65",
       "version_major": 2,
       "version_minor": 0
      },
      "text/plain": [
       "interactive(children=(IntSlider(value=10, description='x_max', max=50, min=-20), IntSlider(value=10, descripti…"
      ]
     },
     "metadata": {},
     "output_type": "display_data"
    }
   ],
   "source": [
    "aver = interactive(\n",
    "    plot_problem,\n",
    "    x_max=widgets.IntSlider(value=10, min=-20, max=50),\n",
    "    y_max=widgets.IntSlider(value=10, min=-20, max=50),\n",
    "    d=widgets.FloatSlider(value=0, min=0, max=60, step=1)\n",
    ");\n",
    "aver"
   ]
  },
  {
   "cell_type": "code",
   "execution_count": null,
   "metadata": {},
   "outputs": [],
   "source": []
  },
  {
   "cell_type": "code",
   "execution_count": 2,
   "metadata": {},
   "outputs": [
    {
     "ename": "SyntaxError",
     "evalue": "can't assign to literal (<ipython-input-2-3c4682447522>, line 17)",
     "output_type": "error",
     "traceback": [
      "\u001b[0;36m  File \u001b[0;32m\"<ipython-input-2-3c4682447522>\"\u001b[0;36m, line \u001b[0;32m17\u001b[0m\n\u001b[0;31m    f'{r}' = compute_img(x, c[0], c[1], c[2])\u001b[0m\n\u001b[0m    ^\u001b[0m\n\u001b[0;31mSyntaxError\u001b[0m\u001b[0;31m:\u001b[0m can't assign to literal\n"
     ]
    }
   ],
   "source": [
    "def compute_img(x, ai1, ai2, bi):\n",
    "    return (bi - ai1 * x)/ai2\n",
    "\n",
    "def plot_problem(\n",
    "    x_min=0,\n",
    "    x_max=20,\n",
    "    y_min=0,\n",
    "    y_max=20,\n",
    "    coefs_dict={'r1': [1, 1, 5/3]},\n",
    "    d=0\n",
    "):\n",
    "    \n",
    "    x = np.linspace(-20, x_max, 1000)\n",
    "    \n",
    "    for r, c in coefs_dict.items():\n",
    "        \n",
    "        f'{r}' = compute_img(x, c[0], c[1], c[2])\n",
    "#     r = compute_img(x, 1, 1, 5/3) \n",
    "#     r1 = compute_img(x, -2, 1, 2)\n",
    "#     r2 = compute_img(x, 0, 1, -1)\n",
    "#     r3 = compute_img(x, -1, -2, 4)\n",
    "#     r4 = compute_img(x, 1, 1/2, 9)\n",
    "    fo = compute_img(x, 2, 5, d)    \n",
    "    \n",
    "    trace1 = {\n",
    "      \"line\": {\"dash\": \"solid\"}, \n",
    "      \"mode\": \"lines\", \n",
    "      \"name\": \"R1\", \n",
    "      \"x\": x,\n",
    "      \"y\": r1,\n",
    "    }\n",
    "    trace2 = {\n",
    "      \"line\": {\"dash\": \"solid\"}, \n",
    "      \"mode\": \"lines\", \n",
    "      \"name\": \"R2\", \n",
    "      \"x\": x, \n",
    "      \"y\": r2, \n",
    "    }\n",
    "    trace3 = {\n",
    "      \"line\": {\"dash\": \"solid\"}, \n",
    "      \"mode\": \"lines\", \n",
    "      \"name\": \"R3\", \n",
    "      \"x\": x, \n",
    "      \"y\": r3,\n",
    "    }\n",
    "    trace4 = {\n",
    "      \"line\": {\"dash\": \"solid\"}, \n",
    "      \"mode\": \"lines\", \n",
    "      \"name\": \"R4\", \n",
    "      \"x\": x, \n",
    "      \"y\": r4,\n",
    "    }\n",
    "    trace_fo = {\n",
    "      \"line\": {\"dash\": \"dot\"}, \n",
    "      \"mode\": \"lines\", \n",
    "      \"name\": \"F.O.\", \n",
    "      \"x\": x, \n",
    "      \"y\": fo,\n",
    "    }\n",
    "    data = go.Data([trace1, trace2, trace3, trace4, trace_fo])\n",
    "    layout = {\n",
    "      \"title\": \"AVERE\", \n",
    "      \"width\": 640, \n",
    "      \"xaxis\": {\n",
    "        \"side\": \"bottom\", \n",
    "        \"type\": \"linear\", \n",
    "        \"range\": [x_min, x_max], \n",
    "        \"ticks\": \"inside\",\n",
    "        \"anchor\": \"y\", \n",
    "        \"domain\": [0, 1], \n",
    "#         \"mirror\": \"ticks\", \n",
    "#         \"nticks\": 8, \n",
    "#         \"showgrid\": False, \n",
    "        \"showline\": True, \n",
    "        \"tickfont\": {\"size\": 10.0}, \n",
    "#         \"zeroline\": False, \n",
    "      }, \n",
    "      \"yaxis\": {\n",
    "        \"side\": \"left\", \n",
    "        \"type\": \"linear\", \n",
    "        \"range\": [y_min, y_max], \n",
    "        \"ticks\": \"inside\",\n",
    "        \"anchor\": \"x\", \n",
    "        \"domain\": [0, 1], \n",
    "#         \"mirror\": \"ticks\", \n",
    "#         \"nticks\": 10, \n",
    "#         \"showgrid\": False, \n",
    "        \"showline\": True, \n",
    "#         \"tickfont\": {\"size\": 10.0}, \n",
    "#         \"zeroline\": False,\n",
    "      }, \n",
    "      \"height\": 480, \n",
    "      \"autosize\": False, \n",
    "      \"hovermode\": \"closest\", \n",
    "      \"titlefont\": {\n",
    "        \"size\": 12.0, \n",
    "        \"color\": \"#000000\"\n",
    "      }, \n",
    "      \"showlegend\": True\n",
    "    }\n",
    "    fig = go.Figure(data=data, layout=layout)\n",
    "    fig.show()"
   ]
  },
  {
   "cell_type": "code",
   "execution_count": 54,
   "metadata": {
    "scrolled": true
   },
   "outputs": [
    {
     "data": {
      "application/vnd.jupyter.widget-view+json": {
       "model_id": "e9ad2fbebf084f9b866e97ef56ae7113",
       "version_major": 2,
       "version_minor": 0
      },
      "text/plain": [
       "interactive(children=(IntSlider(value=10, description='x_max', max=50, min=-20), IntSlider(value=10, descripti…"
      ]
     },
     "metadata": {},
     "output_type": "display_data"
    }
   ],
   "source": [
    "aver = interactive(\n",
    "    plot_problem,\n",
    "    x_max=widgets.IntSlider(value=10, min=-20, max=50),\n",
    "    y_max=widgets.IntSlider(value=10, min=-20, max=50),\n",
    "    d=widgets.FloatSlider(value=0, min=0, max=60, step=.1)\n",
    ");\n",
    "aver"
   ]
  },
  {
   "cell_type": "code",
   "execution_count": 55,
   "metadata": {},
   "outputs": [
    {
     "data": {
      "text/plain": [
       "     con: array([], dtype=float64)\n",
       "     fun: 4.00000000011753\n",
       " message: 'Optimization terminated successfully.'\n",
       "     nit: 4\n",
       "   slack: array([-9.36131173e-11,  3.51905172e-11,  5.50000000e+00,  9.00000000e+00])\n",
       "  status: 0\n",
       " success: True\n",
       "       x: array([-0.5,  1. ])"
      ]
     },
     "execution_count": 55,
     "metadata": {},
     "output_type": "execute_result"
    }
   ],
   "source": [
    "alpha = 0\n",
    "beta = 0\n",
    "gamma = 0\n",
    "c = [2+beta, 5+gamma]\n",
    "A = [[-2, 1], [0, -1], [-1, -2], [1, 1/2]]\n",
    "b = [2+alpha, -1-alpha, 4, 9]\n",
    "x1_bounds = (None, None)\n",
    "x2_bounds = (0, None)\n",
    "\n",
    "linprog(c, A_ub=A, b_ub=b, bounds=[x1_bounds, x2_bounds])"
   ]
  },
  {
   "cell_type": "code",
   "execution_count": null,
   "metadata": {},
   "outputs": [],
   "source": []
  },
  {
   "cell_type": "code",
   "execution_count": null,
   "metadata": {},
   "outputs": [],
   "source": []
  },
  {
   "cell_type": "code",
   "execution_count": null,
   "metadata": {},
   "outputs": [],
   "source": []
  },
  {
   "cell_type": "code",
   "execution_count": null,
   "metadata": {},
   "outputs": [],
   "source": []
  },
  {
   "cell_type": "code",
   "execution_count": null,
   "metadata": {},
   "outputs": [],
   "source": []
  },
  {
   "cell_type": "code",
   "execution_count": null,
   "metadata": {},
   "outputs": [],
   "source": []
  },
  {
   "cell_type": "code",
   "execution_count": null,
   "metadata": {},
   "outputs": [],
   "source": []
  },
  {
   "cell_type": "code",
   "execution_count": null,
   "metadata": {},
   "outputs": [],
   "source": []
  },
  {
   "cell_type": "code",
   "execution_count": null,
   "metadata": {},
   "outputs": [],
   "source": []
  },
  {
   "cell_type": "code",
   "execution_count": null,
   "metadata": {},
   "outputs": [],
   "source": []
  },
  {
   "cell_type": "code",
   "execution_count": null,
   "metadata": {},
   "outputs": [],
   "source": []
  },
  {
   "cell_type": "code",
   "execution_count": null,
   "metadata": {},
   "outputs": [],
   "source": []
  },
  {
   "cell_type": "code",
   "execution_count": null,
   "metadata": {},
   "outputs": [],
   "source": []
  },
  {
   "cell_type": "code",
   "execution_count": null,
   "metadata": {},
   "outputs": [],
   "source": []
  },
  {
   "cell_type": "code",
   "execution_count": null,
   "metadata": {},
   "outputs": [],
   "source": []
  },
  {
   "cell_type": "code",
   "execution_count": null,
   "metadata": {},
   "outputs": [],
   "source": []
  },
  {
   "cell_type": "code",
   "execution_count": null,
   "metadata": {},
   "outputs": [],
   "source": []
  },
  {
   "cell_type": "code",
   "execution_count": null,
   "metadata": {},
   "outputs": [],
   "source": []
  },
  {
   "cell_type": "markdown",
   "metadata": {},
   "source": [
    "### Ax = b\n",
    "\n",
    "ref: https://numpy.org/doc/stable/reference/generated/numpy.linalg.solve.html"
   ]
  },
  {
   "cell_type": "code",
   "execution_count": 44,
   "metadata": {},
   "outputs": [],
   "source": [
    "A = np.array(\n",
    "    [[3, 1, 2], [1, 1, 1], [4, 3, 4]]\n",
    ")\n",
    "# np.linalg.det(A)\n",
    "B = np.linalg.inv(A)\n",
    "R = np.array([[2, 1, 0, 0], [1, 0, 1, 0], [3, 0, 0, 1]])\n",
    "# b = np.array([6, 5, -2])\n",
    "# np.linalg.solve(A, b)"
   ]
  },
  {
   "cell_type": "code",
   "execution_count": 46,
   "metadata": {},
   "outputs": [
    {
     "data": {
      "text/plain": [
       "array([[ 1.00000000e+00,  1.00000000e+00,  2.00000000e+00,\n",
       "        -1.00000000e+00],\n",
       "       [ 1.00000000e+00,  1.77635684e-16,  4.00000000e+00,\n",
       "        -1.00000000e+00],\n",
       "       [-1.00000000e+00, -1.00000000e+00, -5.00000000e+00,\n",
       "         2.00000000e+00]])"
      ]
     },
     "execution_count": 46,
     "metadata": {},
     "output_type": "execute_result"
    }
   ],
   "source": [
    "np.dot(B, R)"
   ]
  },
  {
   "cell_type": "code",
   "execution_count": 21,
   "metadata": {},
   "outputs": [
    {
     "data": {
      "text/plain": [
       "0.2857142857142857"
      ]
     },
     "execution_count": 21,
     "metadata": {},
     "output_type": "execute_result"
    }
   ],
   "source": []
  },
  {
   "cell_type": "code",
   "execution_count": 28,
   "metadata": {},
   "outputs": [],
   "source": [
    "np.set_printoptions(formatter={'all':lambda x: str(fractions.Fraction(x).limit_denominator())})\n",
    "B = np.array(\n",
    "    [[-1,-1, 6, 0], [0, 1, 2, 0], [4, -1, 1, 0], [3, 0, 2, 1]]\n",
    ")\n",
    "R = np.array(\n",
    "    [[3, -1, 2, 1, 0, 0], [1, -2, -1, 0, 1, 0], [-2, 3, 1, 0, 0, 1], [0, 1, 0, 0, 0, 0]]\n",
    ")\n",
    "V = np.matmul(np.linalg.inv(B), R)"
   ]
  },
  {
   "cell_type": "code",
   "execution_count": 29,
   "metadata": {
    "scrolled": true
   },
   "outputs": [
    {
     "data": {
      "text/plain": [
       "array([13/7, -1/35, 64/35, 29/35, 2/7, 16/35])"
      ]
     },
     "execution_count": 29,
     "metadata": {},
     "output_type": "execute_result"
    }
   ],
   "source": [
    "np.matmul(np.array([1, -1, 6, 0]), V)"
   ]
  },
  {
   "cell_type": "code",
   "execution_count": null,
   "metadata": {},
   "outputs": [],
   "source": []
  },
  {
   "cell_type": "code",
   "execution_count": 8,
   "metadata": {
    "scrolled": true
   },
   "outputs": [
    {
     "data": {
      "text/plain": [
       "     con: array([], dtype=float64)\n",
       "     fun: -15.666666577633631\n",
       " message: 'Optimization terminated successfully.'\n",
       "     nit: 5\n",
       "   slack: array([1.06853143e-07, 1.46666664e+01, 1.33515797e-07, 1.13333332e+01])\n",
       "  status: 0\n",
       " success: True\n",
       "       x: array([1.3333334 , 4.33333326])"
      ]
     },
     "execution_count": 8,
     "metadata": {},
     "output_type": "execute_result"
    }
   ],
   "source": [
    "c = [-2, -3]\n",
    "A = [[4, 5], [-1, -4], [-1, 1], [4, 1],]\n",
    "b = [27, -4, 3, 21]\n",
    "x1_bounds = (0, None)\n",
    "x2_bounds = (0, None)\n",
    "\n",
    "linprog(c, A_ub=A, b_ub=b, bounds=[x1_bounds, x2_bounds])"
   ]
  }
 ],
 "metadata": {
  "kernelspec": {
   "display_name": "computing-sandbox-5zrRbyNR-py3.7",
   "language": "python",
   "name": "computing-sandbox-5zrrbynr-py3.7"
  },
  "language_info": {
   "codemirror_mode": {
    "name": "ipython",
    "version": 3
   },
   "file_extension": ".py",
   "mimetype": "text/x-python",
   "name": "python",
   "nbconvert_exporter": "python",
   "pygments_lexer": "ipython3",
   "version": "3.7.5"
  }
 },
 "nbformat": 4,
 "nbformat_minor": 4
}
