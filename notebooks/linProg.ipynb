{
 "cells": [
  {
   "cell_type": "markdown",
   "metadata": {},
   "source": [
    "# <center>B&B solver for </center>\n",
    "$$\\min c^T x$$\n",
    "$$s.t. A_{ub}x \\leq b_{ub}$$\n",
    "$$A_{eq}x = b_{eq}$$\n",
    "$$l \\leq x \\leq u$$\n",
    "\n",
    "Template 2x2 problem: \n",
    "```\n",
    "c = [c1, c2]\n",
    "A = [[-a11, a12], [a21, a22]]\n",
    "b = [b1, b2]\n",
    "x1_bounds = (0, None)\n",
    "x2_bounds = (0, None)\n",
    "\n",
    "linprog(c, A_ub=A, b_ub=b, bounds=[x1_bounds, x2_bounds])\n",
    "```\n",
    "\n",
    "\n",
    "Ref: https://docs.scipy.org/doc/scipy/reference/generated/scipy.optimize.linprog.html"
   ]
  },
  {
   "cell_type": "code",
   "execution_count": 1,
   "metadata": {},
   "outputs": [
    {
     "data": {
      "application/javascript": [
       "IPython.notebook.set_autosave_interval(300000)"
      ]
     },
     "metadata": {},
     "output_type": "display_data"
    },
    {
     "name": "stdout",
     "output_type": "stream",
     "text": [
      "Autosaving every 300 seconds\n"
     ]
    },
    {
     "data": {
      "text/html": [
       "        <script type=\"text/javascript\">\n",
       "        window.PlotlyConfig = {MathJaxConfig: 'local'};\n",
       "        if (window.MathJax) {MathJax.Hub.Config({SVG: {font: \"STIX-Web\"}});}\n",
       "        if (typeof require !== 'undefined') {\n",
       "        require.undef(\"plotly\");\n",
       "        requirejs.config({\n",
       "            paths: {\n",
       "                'plotly': ['https://cdn.plot.ly/plotly-latest.min']\n",
       "            }\n",
       "        });\n",
       "        require(['plotly'], function(Plotly) {\n",
       "            window._Plotly = Plotly;\n",
       "        });\n",
       "        }\n",
       "        </script>\n",
       "        "
      ]
     },
     "metadata": {},
     "output_type": "display_data"
    }
   ],
   "source": [
    "%autosave 300\n",
    "import numpy as np\n",
    "import scipy as sp\n",
    "from scipy.optimize import linprog\n",
    "\n",
    "# pyplot imports\n",
    "import plotly as py\n",
    "import plotly.graph_objs as go\n",
    "import plotly.express as px\n",
    "\n",
    "from plotly.subplots import make_subplots\n",
    "\n",
    "## Offline mode\n",
    "from plotly.offline import init_notebook_mode, iplot\n",
    "init_notebook_mode(connected=True)\n",
    "\n",
    "import ipywidgets as widgets\n",
    "from ipywidgets import interact, interact_manual, interactive, fixed"
   ]
  },
  {
   "cell_type": "code",
   "execution_count": 33,
   "metadata": {
    "scrolled": true
   },
   "outputs": [
    {
     "data": {
      "text/plain": [
       "     con: array([], dtype=float64)\n",
       "     fun: -33.285713494493066\n",
       " message: 'Optimization terminated successfully.'\n",
       "     nit: 5\n",
       "   slack: array([3.82857119e+01, 5.25480665e-07, 6.87325183e-07, 3.12857135e+01])\n",
       "  status: 0\n",
       " success: True\n",
       "       x: array([13.71428529,  5.85714291])"
      ]
     },
     "execution_count": 33,
     "metadata": {},
     "output_type": "execute_result"
    }
   ],
   "source": [
    "# n = 0\n",
    "c = [-2, -1]\n",
    "A = [[-5, 5], [1, -2], [2, 3], [-2, -1]]\n",
    "b = [-1, 2, 45, -2]\n",
    "x1_bounds = (None, None)\n",
    "x2_bounds = (None, None)\n",
    "\n",
    "linprog(c, A_ub=A, b_ub=b, bounds=[x1_bounds, x2_bounds])"
   ]
  },
  {
   "cell_type": "code",
   "execution_count": 40,
   "metadata": {
    "scrolled": true
   },
   "outputs": [
    {
     "data": {
      "text/plain": [
       "     con: array([], dtype=float64)\n",
       "     fun: -28.999999987829472\n",
       " message: 'Optimization terminated successfully.'\n",
       "     nit: 5\n",
       "   slack: array([3.40000000e+01, 4.22036628e-09, 6.00000001e+00, 2.70000000e+01])\n",
       "  status: 0\n",
       " success: True\n",
       "       x: array([11.99999999,  5.        ])"
      ]
     },
     "execution_count": 40,
     "metadata": {},
     "output_type": "execute_result"
    }
   ],
   "source": [
    "# n = 1\n",
    "x1_bounds = (None, None)\n",
    "x2_bounds = (None, 5)\n",
    "linprog(c, A_ub=A, b_ub=b, bounds=[x1_bounds, x2_bounds])"
   ]
  },
  {
   "cell_type": "code",
   "execution_count": 35,
   "metadata": {
    "scrolled": true
   },
   "outputs": [
    {
     "data": {
      "text/plain": [
       "     con: array([], dtype=float64)\n",
       "     fun: -32.99999999879954\n",
       " message: 'Optimization terminated successfully.'\n",
       "     nit: 6\n",
       "   slack: array([3.65000000e+01, 5.00000001e-01, 1.03831610e-09, 3.10000000e+01])\n",
       "  status: 0\n",
       " success: True\n",
       "       x: array([13.5,  6. ])"
      ]
     },
     "execution_count": 35,
     "metadata": {},
     "output_type": "execute_result"
    }
   ],
   "source": [
    "# n = 2\n",
    "x1_bounds = (None, None)\n",
    "x2_bounds = (6, None)\n",
    "linprog(c, A_ub=A, b_ub=b, bounds=[x1_bounds, x2_bounds])"
   ]
  },
  {
   "cell_type": "code",
   "execution_count": 36,
   "metadata": {
    "scrolled": true
   },
   "outputs": [
    {
     "data": {
      "text/plain": [
       "     con: array([], dtype=float64)\n",
       "     fun: -32.33333333165025\n",
       " message: 'Optimization terminated successfully.'\n",
       "     nit: 7\n",
       "   slack: array([3.23333333e+01, 1.66666667e+00, 1.54457780e-10, 3.03333333e+01])\n",
       "  status: 0\n",
       " success: True\n",
       "       x: array([13.        ,  6.33333333])"
      ]
     },
     "execution_count": 36,
     "metadata": {},
     "output_type": "execute_result"
    }
   ],
   "source": [
    "# n = 3\n",
    "x1_bounds = (None, 13)\n",
    "x2_bounds = (6, None)\n",
    "linprog(c, A_ub=A, b_ub=b, bounds=[x1_bounds, x2_bounds])"
   ]
  },
  {
   "cell_type": "code",
   "execution_count": 41,
   "metadata": {
    "scrolled": true
   },
   "outputs": [
    {
     "data": {
      "text/plain": [
       "     con: array([], dtype=float64)\n",
       "     fun: -34.308776943660696\n",
       " message: 'The algorithm terminated successfully and determined that the problem is infeasible.'\n",
       "     nit: 5\n",
       "   slack: array([38.56896128,  0.24660522, -1.6295719 , 32.30877694])\n",
       "  status: 2\n",
       " success: False\n",
       "       x: array([14.07418973,  6.16039748])"
      ]
     },
     "execution_count": 41,
     "metadata": {},
     "output_type": "execute_result"
    }
   ],
   "source": [
    "# n = 4\n",
    "x1_bounds = (14, None)\n",
    "x2_bounds = (6, None)\n",
    "linprog(c, A_ub=A, b_ub=b, bounds=[x1_bounds, x2_bounds])"
   ]
  },
  {
   "cell_type": "code",
   "execution_count": 42,
   "metadata": {},
   "outputs": [
    {
     "data": {
      "text/plain": [
       "     con: array([], dtype=float64)\n",
       "     fun: -31.999999999969955\n",
       " message: 'Optimization terminated successfully.'\n",
       "     nit: 6\n",
       "   slack: array([34.,  1.,  1., 30.])\n",
       "  status: 0\n",
       " success: True\n",
       "       x: array([13.,  6.])"
      ]
     },
     "execution_count": 42,
     "metadata": {},
     "output_type": "execute_result"
    }
   ],
   "source": [
    "# n = 5\n",
    "x1_bounds = (None, 13)\n",
    "x2_bounds = (6, 6)\n",
    "linprog(c, A_ub=A, b_ub=b, bounds=[x1_bounds, x2_bounds])"
   ]
  },
  {
   "cell_type": "code",
   "execution_count": 43,
   "metadata": {},
   "outputs": [
    {
     "data": {
      "text/plain": [
       "     con: array([], dtype=float64)\n",
       "     fun: -31.000000001077048\n",
       " message: 'Optimization terminated successfully.'\n",
       "     nit: 7\n",
       "   slack: array([ 2.40000000e+01,  4.00000000e+00, -1.07822018e-09,  2.90000000e+01])\n",
       "  status: 0\n",
       " success: True\n",
       "       x: array([12.,  7.])"
      ]
     },
     "execution_count": 43,
     "metadata": {},
     "output_type": "execute_result"
    }
   ],
   "source": [
    "# n = 6\n",
    "x1_bounds = (None, 13)\n",
    "x2_bounds = (7, None)\n",
    "linprog(c, A_ub=A, b_ub=b, bounds=[x1_bounds, x2_bounds])"
   ]
  },
  {
   "cell_type": "code",
   "execution_count": 44,
   "metadata": {},
   "outputs": [
    {
     "data": {
      "text/plain": [
       "     con: array([], dtype=float64)\n",
       "     fun: -35.528817273870004\n",
       " message: 'The algorithm terminated successfully and determined that the problem is infeasible.'\n",
       "     nit: 5\n",
       "   slack: array([42.82204318, -0.76440864, -2.52881727, 33.52881727])\n",
       "  status: 2\n",
       " success: False\n",
       "       x: array([14.76440864,  6.        ])"
      ]
     },
     "execution_count": 44,
     "metadata": {},
     "output_type": "execute_result"
    }
   ],
   "source": [
    "# n = 7\n",
    "x1_bounds = (14, None)\n",
    "x2_bounds = (6, 6)\n",
    "linprog(c, A_ub=A, b_ub=b, bounds=[x1_bounds, x2_bounds])"
   ]
  },
  {
   "cell_type": "code",
   "execution_count": 45,
   "metadata": {},
   "outputs": [
    {
     "data": {
      "text/plain": [
       "     con: array([], dtype=float64)\n",
       "     fun: -36.01673433397356\n",
       " message: 'The algorithm terminated successfully and determined that the problem is infeasible.'\n",
       "     nit: 5\n",
       "   slack: array([33.22285312,  2.5979604 , -5.90179639, 34.01673433])\n",
       "  status: 2\n",
       " success: False\n",
       "       x: array([14.28710165,  7.44253103])"
      ]
     },
     "execution_count": 45,
     "metadata": {},
     "output_type": "execute_result"
    }
   ],
   "source": [
    "# n = 8\n",
    "x1_bounds = (14, None)\n",
    "x2_bounds = (7, None)\n",
    "linprog(c, A_ub=A, b_ub=b, bounds=[x1_bounds, x2_bounds])"
   ]
  },
  {
   "cell_type": "code",
   "execution_count": 46,
   "metadata": {},
   "outputs": [
    {
     "data": {
      "text/plain": [
       "     con: array([], dtype=float64)\n",
       "     fun: -34.48984832405941\n",
       " message: 'The algorithm terminated successfully and determined that the problem is infeasible.'\n",
       "     nit: 4\n",
       "   slack: array([36.55075838,  0.97969665, -2.46954497, 32.48984832])\n",
       "  status: 2\n",
       " success: False\n",
       "       x: array([14.        ,  6.48984832])"
      ]
     },
     "execution_count": 46,
     "metadata": {},
     "output_type": "execute_result"
    }
   ],
   "source": [
    "# n = 9\n",
    "x1_bounds = (14, 14)\n",
    "x2_bounds = (6, None)\n",
    "linprog(c, A_ub=A, b_ub=b, bounds=[x1_bounds, x2_bounds])"
   ]
  },
  {
   "cell_type": "markdown",
   "metadata": {},
   "source": [
    "# EJERCICIO 3"
   ]
  },
  {
   "cell_type": "code",
   "execution_count": null,
   "metadata": {},
   "outputs": [],
   "source": []
  },
  {
   "cell_type": "markdown",
   "metadata": {},
   "source": [
    "## Plots"
   ]
  },
  {
   "cell_type": "code",
   "execution_count": 30,
   "metadata": {},
   "outputs": [],
   "source": [
    "def compute_img(x, ai1, ai2, bi):\n",
    "    return (bi - ai1 * x)/ai2\n",
    "\n",
    "def plot_problem(x_max=20, y_max=20,  d=0):\n",
    "    \n",
    "    x = np.linspace(-20, x_max, 1000)\n",
    "    \n",
    "#     r = compute_img(x, 1, 1, 5/3) \n",
    "    r1 = compute_img(x, -5, 5, -1)\n",
    "    r2 = compute_img(x, 1, -2, 2)\n",
    "    r3 = compute_img(x, 2, 3, 45)\n",
    "    r4 = compute_img(x, -2, -1, -2)\n",
    "    fo = compute_img(x, 2, 1, d)    \n",
    "    \n",
    "    trace1 = {\n",
    "      \"line\": {\n",
    "        \"dash\": \"solid\", \n",
    "      }, \n",
    "      \"mode\": \"lines\", \n",
    "      \"name\": \"R1\", \n",
    "      \"x\": x,\n",
    "      \"y\": r1,\n",
    "    }\n",
    "    trace2 = {\n",
    "      \"line\": {\n",
    "        \"dash\": \"solid\", \n",
    "      }, \n",
    "      \"mode\": \"lines\", \n",
    "      \"name\": \"R2\", \n",
    "      \"x\": x, \n",
    "      \"y\": r2, \n",
    "    }\n",
    "    trace3 = {\n",
    "      \"line\": {\n",
    "        \"dash\": \"solid\", \n",
    "      }, \n",
    "      \"mode\": \"lines\", \n",
    "      \"name\": \"R3\", \n",
    "      \"x\": x, \n",
    "      \"y\": r3,\n",
    "    }\n",
    "    trace4 = {\n",
    "      \"line\": {\n",
    "        \"dash\": \"solid\", \n",
    "      }, \n",
    "      \"mode\": \"lines\", \n",
    "      \"name\": \"R4\", \n",
    "      \"x\": x, \n",
    "      \"y\": r4,\n",
    "    }\n",
    "    trace_fo = {\n",
    "      \"line\": {\n",
    "        \"dash\": \"dot\",\n",
    "      }, \n",
    "      \"mode\": \"lines\", \n",
    "      \"name\": \"F.O.\", \n",
    "      \"x\": x, \n",
    "      \"y\": fo,\n",
    "    }\n",
    "    data = go.Data([trace1, trace2, trace3, trace4, trace_fo])\n",
    "    layout = {\n",
    "      \"title\": \"AVERE\", \n",
    "      \"width\": 640, \n",
    "      \"xaxis\": {\n",
    "        \"side\": \"bottom\", \n",
    "        \"type\": \"linear\", \n",
    "        \"range\": [-20, x_max], \n",
    "        \"ticks\": \"inside\",\n",
    "        \"anchor\": \"y\", \n",
    "        \"domain\": [0, 1], \n",
    "        \"mirror\": \"ticks\", \n",
    "        \"nticks\": 8, \n",
    "        \"showgrid\": False, \n",
    "        \"showline\": True, \n",
    "        \"tickfont\": {\"size\": 10.0}, \n",
    "        \"zeroline\": False, \n",
    "        \"titlefont\": {\n",
    "          \"size\": 10.0, \n",
    "          \"color\": \"#000000\"\n",
    "        }\n",
    "      }, \n",
    "      \"yaxis\": {\n",
    "        \"side\": \"left\", \n",
    "        \"type\": \"linear\", \n",
    "        \"range\": [-10, y_max], \n",
    "        \"ticks\": \"inside\",\n",
    "        \"anchor\": \"x\", \n",
    "        \"domain\": [0, 1], \n",
    "        \"mirror\": \"ticks\", \n",
    "        \"nticks\": 10, \n",
    "        \"showgrid\": False, \n",
    "        \"showline\": True, \n",
    "        \"tickfont\": {\"size\": 10.0}, \n",
    "        \"zeroline\": False, \n",
    "        \"titlefont\": {\n",
    "          \"size\": 10.0, \n",
    "          \"color\": \"#000000\"\n",
    "        }\n",
    "      }, \n",
    "      \"height\": 480, \n",
    "      \"autosize\": False, \n",
    "      \"hovermode\": \"closest\", \n",
    "      \"titlefont\": {\n",
    "        \"size\": 12.0, \n",
    "        \"color\": \"#000000\"\n",
    "      }, \n",
    "      \"showlegend\": True\n",
    "    }\n",
    "    fig = go.Figure(data=data, layout=layout)\n",
    "    fig.show()"
   ]
  },
  {
   "cell_type": "code",
   "execution_count": 32,
   "metadata": {
    "scrolled": false
   },
   "outputs": [
    {
     "data": {
      "application/vnd.jupyter.widget-view+json": {
       "model_id": "",
       "version_major": 2,
       "version_minor": 0
      },
      "text/plain": [
       "interactive(children=(IntSlider(value=10, description='x_max', max=50, min=-20), IntSlider(value=10, descripti…"
      ]
     },
     "metadata": {},
     "output_type": "display_data"
    }
   ],
   "source": [
    "aver = interactive(\n",
    "    plot_problem,\n",
    "    x_max=widgets.IntSlider(value=10, min=-20, max=50),\n",
    "    y_max=widgets.IntSlider(value=10, min=-20, max=50),\n",
    "    d=widgets.FloatSlider(value=0, min=0, max=60, step=.1)\n",
    ");\n",
    "aver"
   ]
  },
  {
   "cell_type": "code",
   "execution_count": null,
   "metadata": {},
   "outputs": [],
   "source": []
  },
  {
   "cell_type": "code",
   "execution_count": 2,
   "metadata": {},
   "outputs": [
    {
     "ename": "SyntaxError",
     "evalue": "can't assign to literal (<ipython-input-2-3c4682447522>, line 17)",
     "output_type": "error",
     "traceback": [
      "\u001b[0;36m  File \u001b[0;32m\"<ipython-input-2-3c4682447522>\"\u001b[0;36m, line \u001b[0;32m17\u001b[0m\n\u001b[0;31m    f'{r}' = compute_img(x, c[0], c[1], c[2])\u001b[0m\n\u001b[0m    ^\u001b[0m\n\u001b[0;31mSyntaxError\u001b[0m\u001b[0;31m:\u001b[0m can't assign to literal\n"
     ]
    }
   ],
   "source": [
    "def compute_img(x, ai1, ai2, bi):\n",
    "    return (bi - ai1 * x)/ai2\n",
    "\n",
    "def plot_problem(\n",
    "    x_min=0,\n",
    "    x_max=20,\n",
    "    y_min=0,\n",
    "    y_max=20,\n",
    "    coefs_dict={'r1': [1, 1, 5/3]},\n",
    "    d=0\n",
    "):\n",
    "    \n",
    "    x = np.linspace(-20, x_max, 1000)\n",
    "    \n",
    "    for r, c in coefs_dict.items():\n",
    "        \n",
    "        f'{r}' = compute_img(x, c[0], c[1], c[2])\n",
    "#     r = compute_img(x, 1, 1, 5/3) \n",
    "#     r1 = compute_img(x, -2, 1, 2)\n",
    "#     r2 = compute_img(x, 0, 1, -1)\n",
    "#     r3 = compute_img(x, -1, -2, 4)\n",
    "#     r4 = compute_img(x, 1, 1/2, 9)\n",
    "    fo = compute_img(x, 2, 5, d)    \n",
    "    \n",
    "    trace1 = {\n",
    "      \"line\": {\"dash\": \"solid\"}, \n",
    "      \"mode\": \"lines\", \n",
    "      \"name\": \"R1\", \n",
    "      \"x\": x,\n",
    "      \"y\": r1,\n",
    "    }\n",
    "    trace2 = {\n",
    "      \"line\": {\"dash\": \"solid\"}, \n",
    "      \"mode\": \"lines\", \n",
    "      \"name\": \"R2\", \n",
    "      \"x\": x, \n",
    "      \"y\": r2, \n",
    "    }\n",
    "    trace3 = {\n",
    "      \"line\": {\"dash\": \"solid\"}, \n",
    "      \"mode\": \"lines\", \n",
    "      \"name\": \"R3\", \n",
    "      \"x\": x, \n",
    "      \"y\": r3,\n",
    "    }\n",
    "    trace4 = {\n",
    "      \"line\": {\"dash\": \"solid\"}, \n",
    "      \"mode\": \"lines\", \n",
    "      \"name\": \"R4\", \n",
    "      \"x\": x, \n",
    "      \"y\": r4,\n",
    "    }\n",
    "    trace_fo = {\n",
    "      \"line\": {\"dash\": \"dot\"}, \n",
    "      \"mode\": \"lines\", \n",
    "      \"name\": \"F.O.\", \n",
    "      \"x\": x, \n",
    "      \"y\": fo,\n",
    "    }\n",
    "    data = go.Data([trace1, trace2, trace3, trace4, trace_fo])\n",
    "    layout = {\n",
    "      \"title\": \"AVERE\", \n",
    "      \"width\": 640, \n",
    "      \"xaxis\": {\n",
    "        \"side\": \"bottom\", \n",
    "        \"type\": \"linear\", \n",
    "        \"range\": [x_min, x_max], \n",
    "        \"ticks\": \"inside\",\n",
    "        \"anchor\": \"y\", \n",
    "        \"domain\": [0, 1], \n",
    "#         \"mirror\": \"ticks\", \n",
    "#         \"nticks\": 8, \n",
    "#         \"showgrid\": False, \n",
    "        \"showline\": True, \n",
    "        \"tickfont\": {\"size\": 10.0}, \n",
    "#         \"zeroline\": False, \n",
    "      }, \n",
    "      \"yaxis\": {\n",
    "        \"side\": \"left\", \n",
    "        \"type\": \"linear\", \n",
    "        \"range\": [y_min, y_max], \n",
    "        \"ticks\": \"inside\",\n",
    "        \"anchor\": \"x\", \n",
    "        \"domain\": [0, 1], \n",
    "#         \"mirror\": \"ticks\", \n",
    "#         \"nticks\": 10, \n",
    "#         \"showgrid\": False, \n",
    "        \"showline\": True, \n",
    "#         \"tickfont\": {\"size\": 10.0}, \n",
    "#         \"zeroline\": False,\n",
    "      }, \n",
    "      \"height\": 480, \n",
    "      \"autosize\": False, \n",
    "      \"hovermode\": \"closest\", \n",
    "      \"titlefont\": {\n",
    "        \"size\": 12.0, \n",
    "        \"color\": \"#000000\"\n",
    "      }, \n",
    "      \"showlegend\": True\n",
    "    }\n",
    "    fig = go.Figure(data=data, layout=layout)\n",
    "    fig.show()"
   ]
  },
  {
   "cell_type": "code",
   "execution_count": 54,
   "metadata": {
    "scrolled": true
   },
   "outputs": [
    {
     "data": {
      "application/vnd.jupyter.widget-view+json": {
       "model_id": "e9ad2fbebf084f9b866e97ef56ae7113",
       "version_major": 2,
       "version_minor": 0
      },
      "text/plain": [
       "interactive(children=(IntSlider(value=10, description='x_max', max=50, min=-20), IntSlider(value=10, descripti…"
      ]
     },
     "metadata": {},
     "output_type": "display_data"
    }
   ],
   "source": [
    "aver = interactive(\n",
    "    plot_problem,\n",
    "    x_max=widgets.IntSlider(value=10, min=-20, max=50),\n",
    "    y_max=widgets.IntSlider(value=10, min=-20, max=50),\n",
    "    d=widgets.FloatSlider(value=0, min=0, max=60, step=.1)\n",
    ");\n",
    "aver"
   ]
  },
  {
   "cell_type": "code",
   "execution_count": 55,
   "metadata": {},
   "outputs": [
    {
     "data": {
      "text/plain": [
       "     con: array([], dtype=float64)\n",
       "     fun: 4.00000000011753\n",
       " message: 'Optimization terminated successfully.'\n",
       "     nit: 4\n",
       "   slack: array([-9.36131173e-11,  3.51905172e-11,  5.50000000e+00,  9.00000000e+00])\n",
       "  status: 0\n",
       " success: True\n",
       "       x: array([-0.5,  1. ])"
      ]
     },
     "execution_count": 55,
     "metadata": {},
     "output_type": "execute_result"
    }
   ],
   "source": [
    "alpha = 0\n",
    "beta = 0\n",
    "gamma = 0\n",
    "c = [2+beta, 5+gamma]\n",
    "A = [[-2, 1], [0, -1], [-1, -2], [1, 1/2]]\n",
    "b = [2+alpha, -1-alpha, 4, 9]\n",
    "x1_bounds = (None, None)\n",
    "x2_bounds = (0, None)\n",
    "\n",
    "linprog(c, A_ub=A, b_ub=b, bounds=[x1_bounds, x2_bounds])"
   ]
  },
  {
   "cell_type": "code",
   "execution_count": null,
   "metadata": {},
   "outputs": [],
   "source": []
  },
  {
   "cell_type": "code",
   "execution_count": null,
   "metadata": {},
   "outputs": [],
   "source": []
  },
  {
   "cell_type": "code",
   "execution_count": null,
   "metadata": {},
   "outputs": [],
   "source": []
  },
  {
   "cell_type": "code",
   "execution_count": null,
   "metadata": {},
   "outputs": [],
   "source": []
  },
  {
   "cell_type": "code",
   "execution_count": null,
   "metadata": {},
   "outputs": [],
   "source": []
  },
  {
   "cell_type": "code",
   "execution_count": null,
   "metadata": {},
   "outputs": [],
   "source": []
  },
  {
   "cell_type": "code",
   "execution_count": null,
   "metadata": {},
   "outputs": [],
   "source": []
  },
  {
   "cell_type": "code",
   "execution_count": null,
   "metadata": {},
   "outputs": [],
   "source": []
  },
  {
   "cell_type": "code",
   "execution_count": null,
   "metadata": {},
   "outputs": [],
   "source": []
  },
  {
   "cell_type": "code",
   "execution_count": null,
   "metadata": {},
   "outputs": [],
   "source": []
  },
  {
   "cell_type": "code",
   "execution_count": null,
   "metadata": {},
   "outputs": [],
   "source": []
  },
  {
   "cell_type": "code",
   "execution_count": null,
   "metadata": {},
   "outputs": [],
   "source": []
  },
  {
   "cell_type": "code",
   "execution_count": null,
   "metadata": {},
   "outputs": [],
   "source": []
  },
  {
   "cell_type": "code",
   "execution_count": null,
   "metadata": {},
   "outputs": [],
   "source": []
  },
  {
   "cell_type": "code",
   "execution_count": null,
   "metadata": {},
   "outputs": [],
   "source": []
  },
  {
   "cell_type": "code",
   "execution_count": null,
   "metadata": {},
   "outputs": [],
   "source": []
  },
  {
   "cell_type": "code",
   "execution_count": null,
   "metadata": {},
   "outputs": [],
   "source": []
  },
  {
   "cell_type": "code",
   "execution_count": null,
   "metadata": {},
   "outputs": [],
   "source": []
  },
  {
   "cell_type": "markdown",
   "metadata": {},
   "source": [
    "### Ax = b\n",
    "\n",
    "ref: https://numpy.org/doc/stable/reference/generated/numpy.linalg.solve.html"
   ]
  },
  {
   "cell_type": "code",
   "execution_count": 44,
   "metadata": {},
   "outputs": [],
   "source": [
    "A = np.array(\n",
    "    [[3, 1, 2], [1, 1, 1], [4, 3, 4]]\n",
    ")\n",
    "# np.linalg.det(A)\n",
    "B = np.linalg.inv(A)\n",
    "R = np.array([[2, 1, 0, 0], [1, 0, 1, 0], [3, 0, 0, 1]])\n",
    "# b = np.array([6, 5, -2])\n",
    "# np.linalg.solve(A, b)"
   ]
  },
  {
   "cell_type": "code",
   "execution_count": 46,
   "metadata": {},
   "outputs": [
    {
     "data": {
      "text/plain": [
       "array([[ 1.00000000e+00,  1.00000000e+00,  2.00000000e+00,\n",
       "        -1.00000000e+00],\n",
       "       [ 1.00000000e+00,  1.77635684e-16,  4.00000000e+00,\n",
       "        -1.00000000e+00],\n",
       "       [-1.00000000e+00, -1.00000000e+00, -5.00000000e+00,\n",
       "         2.00000000e+00]])"
      ]
     },
     "execution_count": 46,
     "metadata": {},
     "output_type": "execute_result"
    }
   ],
   "source": [
    "np.dot(B, R)"
   ]
  },
  {
   "cell_type": "code",
   "execution_count": 49,
   "metadata": {},
   "outputs": [
    {
     "data": {
      "text/plain": [
       "1"
      ]
     },
     "execution_count": 49,
     "metadata": {},
     "output_type": "execute_result"
    }
   ],
   "source": [
    "19*2 + 4*12 -17*5"
   ]
  }
 ],
 "metadata": {
  "kernelspec": {
   "display_name": "computing-sandbox-5zrRbyNR-py3.7",
   "language": "python",
   "name": "computing-sandbox-5zrrbynr-py3.7"
  },
  "language_info": {
   "codemirror_mode": {
    "name": "ipython",
    "version": 3
   },
   "file_extension": ".py",
   "mimetype": "text/x-python",
   "name": "python",
   "nbconvert_exporter": "python",
   "pygments_lexer": "ipython3",
   "version": "3.7.5"
  }
 },
 "nbformat": 4,
 "nbformat_minor": 4
}
